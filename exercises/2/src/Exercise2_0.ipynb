{
 "cells": [
  {
   "cell_type": "markdown",
   "metadata": {},
   "source": [
    "C)"
   ]
  },
  {
   "cell_type": "code",
   "execution_count": null,
   "metadata": {},
   "outputs": [],
   "source": [
    "docker build -t test_image ."
   ]
  },
  {
   "cell_type": "markdown",
   "metadata": {},
   "source": [
    "D)"
   ]
  },
  {
   "cell_type": "code",
   "execution_count": null,
   "metadata": {},
   "outputs": [],
   "source": [
    "docker run -it --rm --name test_image test_container1 /bin/bash"
   ]
  },
  {
   "cell_type": "markdown",
   "metadata": {},
   "source": [
    "E)"
   ]
  },
  {
   "cell_type": "code",
   "execution_count": null,
   "metadata": {},
   "outputs": [],
   "source": [
    "pip list | grep -E 'pandas|matplotlib'"
   ]
  },
  {
   "cell_type": "markdown",
   "metadata": {
    "vscode": {
     "languageId": "plaintext"
    }
   },
   "source": [
    "F)"
   ]
  },
  {
   "cell_type": "code",
   "execution_count": null,
   "metadata": {},
   "outputs": [],
   "source": [
    "import sys\n",
    "import pkg_resources\n",
    "\n",
    "def main():\n",
    "    # Get the Python version\n",
    "    python_version = sys.version\n",
    "    print(f\"Python version is {python_version}\")\n",
    "\n",
    "    # Get installed packages and their versions\n",
    "    print(\"\\nInstalled packages:\")\n",
    "    installed_packages = sorted([(d.project_name, d.version) for d in pkg_resources.working_set])\n",
    "    for package, version in installed_packages:\n",
    "        print(f\"{package} == {version}\")\n",
    "\n",
    "# Ensure the main function runs when the script is executed directly\n",
    "if __name__ == \"__main__\":\n",
    "    main()\n"
   ]
  },
  {
   "cell_type": "markdown",
   "metadata": {},
   "source": [
    "H)"
   ]
  },
  {
   "cell_type": "code",
   "execution_count": null,
   "metadata": {},
   "outputs": [],
   "source": [
    "check your current directory path: pwd\n",
    "list all files_ ls -a\n",
    "navigate to parents and list files: cd .. cd .. ls\n",
    "list all files inside app: ls \n",
    "count all files and folders inside app: find -type f | wc -l\n",
    "\n",
    "check your operative system\n",
    "check the current date\n",
    "go up to root and check what files are there\n",
    "\n",
    "\n",
    "\n"
   ]
  },
  {
   "cell_type": "markdown",
   "metadata": {},
   "source": [
    "i) Now create your os_data.py app to read in athelete_events.csv as a dataframe, print out df.head(), plot a graph and export it to src folder."
   ]
  },
  {
   "cell_type": "code",
   "execution_count": null,
   "metadata": {},
   "outputs": [],
   "source": [
    "df = pd.read_csv(\"src/athlete_events.csv\")\n",
    "\n",
    "\n",
    "test = df[\"Team\"].value_counts().reset_index()\n",
    "test_top = test.head(10)\n",
    "\n",
    "\n",
    "fig, ax = plt.subplots(1, figsize=(12, 6))\n",
    "ax.bar(x = test_top[\"Team\"], height = test_top[\"count\"])\n",
    "ax.set_ylabel(\"Antal tävlande\")\n",
    "ax.set_xlabel(\"Land\")\n",
    "ax.set_title(\"Top 10 nationer för antal tävlande i OS historien\")\n",
    "\n",
    "plt.savefig(\"src/top_10nationer.jpeg\", format = \"jpeg\", dpi = 300)\n",
    "\n",
    "plt.show()"
   ]
  },
  {
   "cell_type": "markdown",
   "metadata": {},
   "source": [
    "j) You can't see the figure when the container closes, so open it in interactive mode and run your python script from there and check if the figure is there."
   ]
  },
  {
   "cell_type": "code",
   "execution_count": 2,
   "metadata": {},
   "outputs": [
    {
     "ename": "SyntaxError",
     "evalue": "invalid syntax (2209985156.py, line 3)",
     "output_type": "error",
     "traceback": [
      "\u001b[1;36m  Cell \u001b[1;32mIn[2], line 3\u001b[1;36m\u001b[0m\n\u001b[1;33m    FROM python:3.9\u001b[0m\n\u001b[1;37m         ^\u001b[0m\n\u001b[1;31mSyntaxError\u001b[0m\u001b[1;31m:\u001b[0m invalid syntax\n"
     ]
    }
   ],
   "source": [
    "# Dockerfile\n",
    "\n",
    "FROM python:3.9\n",
    "\n",
    "#WORKDIR /src Behövs inte så länge jag kör compose\n",
    "\n",
    "COPY . .\n",
    "\n",
    "RUN pip install -r src/requirements.txt\n",
    "\n",
    "#CMD [\"python\", \"src/os_data.py\"] Behövs inte så länge jag kör compose\n",
    "\n",
    "#Docker-Compose\n",
    "\n",
    "version: '3.9'\n",
    "\n",
    "services:\n",
    "  app:\n",
    "    build:\n",
    "      context: .  # Make sure this points to the correct directory where your src folder is located\n",
    "      dockerfile: dockerfile\n",
    "    volumes:\n",
    "      - ./src:/src  # Bind the src folder from your local machine to /src in the container\n",
    "    working_dir: /src\n",
    "    command: python os_data.py\n",
    "    \n",
    "    # Requirements\n",
    "    \n",
    "matplotlib\n",
    "pandas\n",
    "\n",
    "\n"
   ]
  },
  {
   "cell_type": "markdown",
   "metadata": {},
   "source": [
    "2. Theory questions"
   ]
  },
  {
   "cell_type": "raw",
   "metadata": {
    "vscode": {
     "languageId": "raw"
    }
   },
   "source": [
    "a) What is the purpose of a dockerfile?\n",
    "\n",
    "The purpose of a dockerfile is to enable that people work with the same version of different programs when collobariting over a project e.g.\n",
    "The purpose of a Dockerfile is to define a set of instructions for building a Docker image. Essentially, it automates the creation of a Docker image that contains everything needed to run your application inside a container. \n",
    "Here’s a breakdown of the key points:\n",
    "- From\n",
    "- copy\n",
    "- run\n",
    "- cmd\n",
    "In short, a Dockerfile is a script that automates the creation of a Docker image. It specifies the environment setup, dependencies, files, \n",
    "and the default behavior for running your application inside a container. \n",
    "This makes the development and deployment process more consistent and reproducible.\n",
    "\n",
    "b) What is the purpose of dockerizing an app?\n",
    "\n",
    "Dockerizing an app means packaging the application along with all its dependencies, libraries, and configurations into a container. This container can then run consistently across different environments, regardless of the underlying infrastructure. The main purposes of Dockerizing an app are:\n",
    "Consistency: Docker ensures that an app runs the same way on any machine, whether it's a developer's local machine, a test server, or a production environment. This eliminates the \"works on my machine\" problem.\n",
    "Isolation: Each Docker container runs in its own isolated environment, which prevents conflicts between different applications or dependencies on the same host system.\n",
    "Portability: Docker containers are platform-agnostic, meaning they can be deployed on any operating system or cloud provider that supports Docker.\n",
    "Scalability: Docker makes it easier to scale applications by running multiple containers in parallel, using orchestration tools like Kubernetes or Docker Swarm.\n",
    "Simplified Deployment: With Docker, you can define an application’s environment in a Dockerfile, making the deployment process predictable and reproducible.\n",
    "Efficiency: Containers are lightweight compared to virtual machines, making them faster to start and more resource-efficient.\n",
    "In short, Dockerizing an app enhances development speed, simplifies deployment, and improves the overall reliability and maintainability of applications.\n",
    "\n",
    "c) What is the difference between dockerfile and docker compose?\n",
    "\n",
    "A dockerfile can run one single app/container whereas a docker compose can attach multiple. \n",
    "Aspect\t        Dockerfile\t                            Docker Compose\n",
    "Purpose\t    Builds a Docker image.\t            Manages multi-container applications.\n",
    "File Format\tScript file with Docker instructions.\t  YAML configuration file.\n",
    "Function\tDefines how a single image is created.\t    Defines how containers interact.\n",
    "Scope\tFocused on a single image.\t                  Orchestrates multiple services.\n",
    "Execution\tUsed with docker build and docker run.\t     Used with docker-compose up.\n",
    "Output\t      Produces a Docker image.\t                   Produces running containers.\n",
    "\n",
    "Dockerfile is used to build the images for individual services (e.g., web app, database).\n",
    "Docker Compose uses those images to define, configure, and run multiple containers as a complete application.\n",
    "\n",
    "\n",
    "d) What is Docker, and how does it differ from traditional virtualization?\n",
    "\n",
    "Docker provides a way to:\n",
    "\n",
    "Package an application and all its dependencies (e.g., libraries, runtime, config) into a single container image.\n",
    "Run that container on any system that supports Docker, ensuring consistency across environments.\n",
    "Scale and manage containers using tools like Docker Compose and Docker Swarm or integrate with orchestration platforms like Kubernetes.\n",
    "\n",
    "Docker focuses on lightweight containers for fast, portable, and efficient application deployment.\n",
    "Traditional virtualization provides heavier virtual machines for scenarios needing full OS-level isolation and stronger resource segregation.\n",
    "Docker and VMs are complementary. In many cases, Docker containers are run inside VMs for added isolation and flexibility in hybrid environments.\n",
    "\n",
    "e) What are the key components of Docker?\n",
    "\n",
    "Docker Engine\n",
    "    - docker deamon\n",
    "    - docker client\n",
    "    - rest applications\n",
    "Docker images\n",
    "    What it is: A lightweight, standalone, and executable package that includes everything needed to run an application (code, libraries, dependencies, environment variables).\n",
    "Docker containers\n",
    "    What it is: A runtime instance of a Docker image. It is an isolated environment that runs an application.\n",
    "Dockerfile\n",
    "    What it is: A text file with instructions for building a Docker image.\n",
    " Docker Compose\n",
    "    What it is: A tool for defining and managing multi-container Docker applications\n",
    "Docker Volumes\n",
    "    What it is: A mechanism for persisting data generated by and used by Docker containers.\n",
    "    Purpose: Allows containers to store and share data outside the container's filesystem.\n",
    "Docker Networks\n",
    "    What it is: A way for containers to communicate with each other or with the outside world.\n",
    "    Purpose: Enables isolated or shared communication between containers.\n",
    "Docker Registry\n",
    "    What it is: A repository for storing and sharing Docker images.\n",
    "    Purpose: To allow developers to pull and push images for reuse or deployment.\n",
    "Docker Swarm\n",
    "    What it is: Docker’s native container orchestration tool.\n",
    "    Purpose: To manage and scale containerized applications across a cluster of Docker hosts.\n",
    "Kubernetes\n",
    "    Although not a direct Docker component, Kubernetes is often used with Docker for advanced container orchestration. It helps manage large-scale container deployments.\n",
    "\n",
    "How These Components Work Together\n",
    "\n",
    "A developer writes a Dockerfile to define the app environment.\n",
    "The Docker image is built from the Dockerfile.\n",
    "Containers are created from the image to run the app.\n",
    "Data is managed using volumes, and communication is enabled via networks.\n",
    "Images are pushed to/pulled from a registry (like Docker Hub) for sharing or deployment.\n",
    "Multi-container setups are managed using Docker Compose or Docker Swarm.\n",
    "\n",
    "Summary\n",
    "\n",
    "Docker simplifies application deployment by containerizing applications and their dependencies. \n",
    "Its components—like images, containers, volumes, and networks—work together to create lightweight, \n",
    "portable, and consistent environments for development, testing, and production.\n",
    "\n",
    "f) What is a Docker image, and how is it different from a container?\n",
    "\n",
    "A docker image is a blueprint of an application whereas a container is the active version of that app when it´s being runned. \n",
    "\n",
    "A Docker image is a blueprint of an application, containing all the necessary files, libraries, dependencies, and configurations required to run the app. It is a static, read-only package that serves as the foundation for creating containers.\n",
    "A Docker container is the active, running instance of a Docker image. It is a live environment where the application is executed, isolated from the host system and other containers.\n",
    "\n",
    "g) What is a Docker volume, and why is it used?\n",
    "\n",
    "A Docker volume is a mechanism for persisting data generated or used by a Docker container. Volumes allow data to exist outside the container's lifecycle, \n",
    "meaning the data remains intact even if the container is stopped, removed, or recreated.\n",
    "Volumes are also shareable between containers, making them a common choice for scenarios where multiple containers need access to the same data."
   ]
  },
  {
   "cell_type": "markdown",
   "metadata": {},
   "source": [
    "Glossary"
   ]
  },
  {
   "cell_type": "raw",
   "metadata": {
    "vscode": {
     "languageId": "raw"
    }
   },
   "source": [
    "Terminology\t      Explanation\n",
    "Host system\t         The physical or virtual machine where Docker is installed and running. It provides resources like CPU, memory, and storage to Docker containers.\n",
    "Virtualization\t      The process of creating virtual instances (e.g., virtual machines) that emulate a physical computer. Unlike Docker, it runs full operating systems, which can be resource-intensive.\n",
    "Spin up\t           To create or start a container.\n",
    "Dockerize\t    To package an application (and its dependencies) into a Docker container, using a Dockerfile (single) or docker-compose (multi-container).\n",
    "docker build\t    A command used to create an image from a Dockerfile.\n",
    "docker run\t      A command used to create and start a container from an image.\n",
    "Docker layers\t  Intermediate stages of a Docker image, created by commands in the Dockerfile. They speed up builds by caching unchanged steps.\n",
    "Container\t    A running instance of an image. Containers are lightweight and isolated but share the host OS kernel.\n",
    "Image\t         A lightweight, standalone, and executable blueprint that includes everything needed to run software (code, libraries, environment variables, etc.).\n",
    "docker-compose up -d\t          Runs the services defined in the docker-compose.yml file in detached mode (in the background).\n",
    "docker-compose up --build\tBuilds/rebuilds images defined in the docker-compose.yml file and then starts the containers. Useful after Dockerfile changes.\n",
    "docker-compose down\t         Stops and removes containers, networks, and volumes defined in the docker-compose.yml file.\n",
    "docker exec -it /bin/bash\t           Executes a command in a running container, typically to open an interactive Bash shell inside it. Syntax: docker exec -it <container_name_or_id> /bin/bash.\n",
    "docker inspect\t       Displays detailed information about a Docker object (e.g., container, image, network, or volume).\n",
    "docker ps\t         Lists all running containers.\n",
    "docker volume ls\t      Lists all Docker volumes on the host.\n",
    "docker container ls -a\t        Lists all containers, including stopped ones.\n",
    "docker image ls -a\t       Lists all images, including intermediate layers.\n",
    "docker image prune\t       Removes unused Docker images (dangling or not referenced by any container).\n",
    "docker container prune\t        emoves all stopped containers.\n",
    "Tag              A label used to version Docker images, e.g., python:3.9. Tags help differentiate between versions.\n",
    "docker rm\t        Removes one or more stopped containers. Example: docker rm <container_id>."
   ]
  }
 ],
 "metadata": {
  "kernelspec": {
   "display_name": ".venv",
   "language": "python",
   "name": "python3"
  },
  "language_info": {
   "codemirror_mode": {
    "name": "ipython",
    "version": 3
   },
   "file_extension": ".py",
   "mimetype": "text/x-python",
   "name": "python",
   "nbconvert_exporter": "python",
   "pygments_lexer": "ipython3",
   "version": "3.12.8"
  }
 },
 "nbformat": 4,
 "nbformat_minor": 2
}
