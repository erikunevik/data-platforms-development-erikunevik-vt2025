{
 "cells": [
  {
   "cell_type": "markdown",
   "metadata": {},
   "source": [
    "C)"
   ]
  },
  {
   "cell_type": "code",
   "execution_count": null,
   "metadata": {},
   "outputs": [],
   "source": [
    "docker build -t test_image ."
   ]
  },
  {
   "cell_type": "markdown",
   "metadata": {},
   "source": [
    "D)"
   ]
  },
  {
   "cell_type": "code",
   "execution_count": null,
   "metadata": {},
   "outputs": [],
   "source": [
    "docker run -it --rm --name test_image test_container1 /bin/bash"
   ]
  },
  {
   "cell_type": "markdown",
   "metadata": {},
   "source": [
    "E)"
   ]
  },
  {
   "cell_type": "code",
   "execution_count": null,
   "metadata": {},
   "outputs": [],
   "source": [
    "pip list | grep -E 'pandas|matplotlib'"
   ]
  },
  {
   "cell_type": "markdown",
   "metadata": {
    "vscode": {
     "languageId": "plaintext"
    }
   },
   "source": [
    "F)"
   ]
  },
  {
   "cell_type": "code",
   "execution_count": null,
   "metadata": {},
   "outputs": [],
   "source": [
    "import sys\n",
    "import pkg_resources\n",
    "\n",
    "def main():\n",
    "    # Get the Python version\n",
    "    python_version = sys.version\n",
    "    print(f\"Python version is {python_version}\")\n",
    "\n",
    "    # Get installed packages and their versions\n",
    "    print(\"\\nInstalled packages:\")\n",
    "    installed_packages = sorted([(d.project_name, d.version) for d in pkg_resources.working_set])\n",
    "    for package, version in installed_packages:\n",
    "        print(f\"{package} == {version}\")\n",
    "\n",
    "# Ensure the main function runs when the script is executed directly\n",
    "if __name__ == \"__main__\":\n",
    "    main()\n"
   ]
  },
  {
   "cell_type": "markdown",
   "metadata": {},
   "source": [
    "H)"
   ]
  },
  {
   "cell_type": "code",
   "execution_count": null,
   "metadata": {},
   "outputs": [],
   "source": [
    "check your current directory path: pwd\n",
    "list all files_ ls -a\n",
    "navigate to parents and list files: cd .. cd .. ls\n",
    "list all files inside app: ls \n",
    "count all files and folders inside app: find -type f | wc -l\n",
    "\n",
    "check your operative system\n",
    "check the current date\n",
    "go up to root and check what files are there\n",
    "\n",
    "\n",
    "\n"
   ]
  },
  {
   "cell_type": "markdown",
   "metadata": {},
   "source": [
    "i) Now create your os_data.py app to read in athelete_events.csv as a dataframe, print out df.head(), plot a graph and export it to src folder."
   ]
  },
  {
   "cell_type": "code",
   "execution_count": null,
   "metadata": {},
   "outputs": [],
   "source": [
    "df = pd.read_csv(\"src/athlete_events.csv\")\n",
    "\n",
    "\n",
    "test = df[\"Team\"].value_counts().reset_index()\n",
    "test_top = test.head(10)\n",
    "\n",
    "\n",
    "fig, ax = plt.subplots(1, figsize=(12, 6))\n",
    "ax.bar(x = test_top[\"Team\"], height = test_top[\"count\"])\n",
    "ax.set_ylabel(\"Antal tävlande\")\n",
    "ax.set_xlabel(\"Land\")\n",
    "ax.set_title(\"Top 10 nationer för antal tävlande i OS historien\")\n",
    "\n",
    "plt.savefig(\"src/top_10nationer.jpeg\", format = \"jpeg\", dpi = 300)\n",
    "\n",
    "plt.show()"
   ]
  },
  {
   "cell_type": "markdown",
   "metadata": {},
   "source": [
    "j) You can't see the figure when the container closes, so open it in interactive mode and run your python script from there and check if the figure is there."
   ]
  },
  {
   "cell_type": "markdown",
   "metadata": {},
   "source": []
  }
 ],
 "metadata": {
  "kernelspec": {
   "display_name": ".venv",
   "language": "python",
   "name": "python3"
  },
  "language_info": {
   "name": "python",
   "version": "3.12.8"
  }
 },
 "nbformat": 4,
 "nbformat_minor": 2
}
