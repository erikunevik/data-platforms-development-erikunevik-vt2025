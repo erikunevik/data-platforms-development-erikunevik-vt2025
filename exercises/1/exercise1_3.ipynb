{
 "cells": [
  {
   "cell_type": "markdown",
   "metadata": {},
   "source": [
    "**3. Theory questions**\n"
   ]
  },
  {
   "cell_type": "markdown",
   "metadata": {},
   "source": [
    "**A)**"
   ]
  },
  {
   "cell_type": "markdown",
   "metadata": {},
   "source": [
    "Beacuse you can use the easy interface of Pandas with the easier commands of duckdb.\n",
    "\n",
    "Use DuckDB for heavy lifting (querying, aggregating, filtering) and pandas for further fine-grained manipulation and analysis.\n",
    "\n",
    "\n",
    "Feature\tDuckDB\tpandas\tCombined Strength\n",
    "Handles large datasets\tYes\tLimited\tEfficient querying and in-memory manipulation\n",
    "SQL querying\tNative SQL support\tNo\tPerform complex SQL queries directly on DataFrames\n",
    "External file support\tExtensive\tLimited\tQuery files directly and load results into DataFrames\n",
    "Performance\tHigh for large datasets\tSlower for large datasets\tUse DuckDB for heavy tasks, pandas for additional analysis\n",
    "User-friendly API\tSQL\tPythonic\tFlexibility to switch between SQL and Python workflows"
   ]
  },
  {
   "cell_type": "markdown",
   "metadata": {},
   "source": [
    "B) How do you create a DataFrame in Pandas from a dictionary, a list of dictionaries, and a CSV file, json object?"
   ]
  },
  {
   "cell_type": "code",
   "execution_count": null,
   "metadata": {},
   "outputs": [],
   "source": [
    "Dictionary:\n",
    "data = {\n",
    "    'Name': ['Alice', 'Bob', 'Charlie'],\n",
    "    'Age': [24, 27, 22],\n",
    "    'City': ['New York', 'Los Angeles', 'Chicago']\n",
    "}\n",
    "\n",
    "# Create DataFrame\n",
    "df = pd.DataFrame(data)\n",
    "print(df)\n",
    "\n",
    "\n",
    "import pandas as pd\n",
    "\n",
    "# List of dictionaries\n",
    "data = [\n",
    "    {'Name': 'Alice', 'Age': 24, 'City': 'New York'},\n",
    "    {'Name': 'Bob', 'Age': 27, 'City': 'Los Angeles'},\n",
    "    {'Name': 'Charlie', 'Age': 22, 'City': 'Chicago'}\n",
    "]\n",
    "\n",
    "# Create DataFrame\n",
    "df = pd.DataFrame(data)\n",
    "print(df)\n",
    "\n",
    "\n",
    "import pandas as pd\n",
    "\n",
    "# Load CSV file into DataFrame (ensure the file is in the current directory or provide the full path)\n",
    "df = pd.read_csv('file.csv')\n",
    "\n",
    "# Display the DataFrame\n",
    "print(df)\n",
    "\n",
    "\n",
    "import pandas as pd\n",
    "\n",
    " JSON object\n",
    "data = [\n",
    "    {\"Name\": \"Alice\", \"Age\": 24, \"City\": \"New York\"},\n",
    "    {\"Name\": \"Bob\", \"Age\": 27, \"City\": \"Los Angeles\"},\n",
    "    {\"Name\": \"Charlie\", \"Age\": 22, \"City\": \"Chicago\"}\n",
    "]\n",
    "\n",
    "# Convert JSON object to DataFrame\n",
    "df = pd.DataFrame(data)\n",
    "print(df)\n",
    "\n",
    "\n",
    "import pandas as pd\n",
    "\n",
    "# Load JSON file into DataFrame\n",
    "df = pd.read_json('file.json')\n",
    "\n",
    "# Display the DataFrame\n",
    "print(df)\n"
   ]
  },
  {
   "cell_type": "markdown",
   "metadata": {},
   "source": [
    "C) What is the difference between .loc[] and .iloc[] for indexing in Pandas?"
   ]
  },
  {
   "cell_type": "code",
   "execution_count": null,
   "metadata": {},
   "outputs": [],
   "source": [
    "Feature\t.loc[]\t      .iloc[]\n",
    "Indexing by\t         Labels (row and column names)\t            Integer positions (0-based index)\n",
    "Accepts\t             Labels, boolean conditions, slices\t      Integers, slices, lists of positions\n",
    "Slicing behavior\tIncludes the stop value\t                 Excludes the stop value\n",
    "Example usage\t     df.loc['a', 'Age']\t                     df.iloc[0, 1]\n"
   ]
  },
  {
   "cell_type": "markdown",
   "metadata": {},
   "source": [
    "D) What is the purpose of the .groupby() method in Pandas? How is it used in data aggregation?"
   ]
  },
  {
   "cell_type": "code",
   "execution_count": 1,
   "metadata": {},
   "outputs": [
    {
     "name": "stdout",
     "output_type": "stream",
     "text": [
      "      Score        Age\n",
      "Team                  \n",
      "A        60  25.666667\n",
      "B        75  27.333333\n"
     ]
    }
   ],
   "source": [
    "# Summary of .groupby() usage:\n",
    "# Group data: Use .groupby(<columns>) to group the DataFrame by one or more columns.\n",
    "# Apply aggregation: Use methods like sum(), mean(), count(), etc., to perform aggregation on each group.\n",
    "# Advanced aggregation: Use .agg() to apply multiple aggregation functions at once to different columns.\n",
    "# Why Use .groupby()?\n",
    "# Data Summarization: It helps in summarizing large datasets into more manageable insights.\n",
    "# Data Transformation: It allows you to apply custom transformations or operations to each group.\n",
    "# Efficient Data Handling: Grouping operations are optimized in pandas and can handle large datasets efficiently.\n",
    "# By grouping and applying aggregation functions, you can quickly extract valuable insights from your data based on categorical or group-wise information.\n",
    "\n",
    "import pandas as pd\n",
    "\n",
    "# Sample DataFrame\n",
    "data = {\n",
    "    'Team': ['A', 'A', 'B', 'B', 'A', 'B'],\n",
    "    'Score': [10, 20, 15, 25, 30, 35],\n",
    "    'Age': [24, 25, 26, 27, 28, 29],\n",
    "}\n",
    "\n",
    "df = pd.DataFrame(data)\n",
    "\n",
    "# Group by 'Team' and apply multiple aggregation functions\n",
    "grouped = df.groupby('Team').agg({\n",
    "    'Score': 'sum',        # Sum of 'Score' for each group\n",
    "    'Age': 'mean'          # Average 'Age' for each group\n",
    "})\n",
    "print(grouped)"
   ]
  },
  {
   "cell_type": "markdown",
   "metadata": {},
   "source": [
    "E)How do you export a pandas dataframe into a csv file?"
   ]
  },
  {
   "cell_type": "code",
   "execution_count": 2,
   "metadata": {},
   "outputs": [],
   "source": [
    "import pandas as pd\n",
    "\n",
    "# Sample DataFrame\n",
    "data = {\n",
    "    'ID': [1, 2, 3],\n",
    "    'Name': ['Alice', 'Bob', 'Charlie'],\n",
    "    'Age': [24, 27, 22],\n",
    "}\n",
    "\n",
    "df = pd.DataFrame(data)\n",
    "\n",
    "# Export DataFrame to CSV\n",
    "df.to_csv('data.csv', index=False)\n"
   ]
  },
  {
   "cell_type": "markdown",
   "metadata": {},
   "source": [
    "F) How do you save a pandas dataframe into a duckdb database?"
   ]
  },
  {
   "cell_type": "code",
   "execution_count": 7,
   "metadata": {},
   "outputs": [
    {
     "name": "stdout",
     "output_type": "stream",
     "text": [
      "[(1, 'Alice', 24), (2, 'Bob', 27), (3, 'Charlie', 22)]\n"
     ]
    }
   ],
   "source": [
    "import duckdb\n",
    "import pandas as pd\n",
    "\n",
    "# Sample DataFrame\n",
    "data = {\n",
    "    'ID': [1, 2, 3],\n",
    "    'Name': ['Alice', 'Bob', 'Charlie'],\n",
    "    'Age': [24, 27, 22],\n",
    "}\n",
    "\n",
    "df = pd.DataFrame(data)\n",
    "\n",
    "# Create a connection to the DuckDB database (in-memory or file-based)\n",
    "conn = duckdb.connect('data/my_database.db')\n",
    "\n",
    "# Create a table in DuckDB (if it doesn't already exist)\n",
    "conn.execute(\"\"\"\n",
    "    CREATE TABLE IF NOT EXISTS people (ID INTEGER, Name TEXT, Age INTEGER)\n",
    "\"\"\")\n",
    "\n",
    "# Load the pandas DataFrame directly into DuckDB\n",
    "conn.register('df', df)  # Register the DataFrame as a virtual table\n",
    "conn.execute(\"INSERT INTO people SELECT * FROM df\")  # Insert data into DuckDB table\n",
    "\n",
    "# Optionally, to check that the data was inserted correctly\n",
    "result = conn.execute('SELECT * FROM people').fetchall()\n",
    "print(result)\n",
    "\n",
    "# Close the connection\n",
    "conn.close()\n"
   ]
  }
 ],
 "metadata": {
  "kernelspec": {
   "display_name": ".venv",
   "language": "python",
   "name": "python3"
  },
  "language_info": {
   "codemirror_mode": {
    "name": "ipython",
    "version": 3
   },
   "file_extension": ".py",
   "mimetype": "text/x-python",
   "name": "python",
   "nbconvert_exporter": "python",
   "pygments_lexer": "ipython3",
   "version": "3.12.8"
  }
 },
 "nbformat": 4,
 "nbformat_minor": 2
}
