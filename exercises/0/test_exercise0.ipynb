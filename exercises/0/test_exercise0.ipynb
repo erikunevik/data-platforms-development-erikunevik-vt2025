{
 "cells": [
  {
   "cell_type": "markdown",
   "metadata": {},
   "source": [
    "0"
   ]
  },
  {
   "cell_type": "code",
   "execution_count": 2,
   "metadata": {},
   "outputs": [
    {
     "name": "stdout",
     "output_type": "stream",
     "text": [
      "Source: /Users/aigineer/Documents/data_platform_course/data/file.csv\n",
      "source: /Users/aigineer/Documents/data_platform_course/cleaned_data/file.csv\n"
     ]
    }
   ],
   "source": [
    "# \"/Users/aigineer/Documents/data_platform_course/cleaned_data/file.csv\"\n",
    "# \"/Users/aigineer/Documents/data_platform_course/data/file.csv\"\n",
    "\n",
    "\n",
    "source_path = input(\"Enter your source path:\")\n",
    "data_path = input(\"Enter your datapath:\")\n",
    "\n",
    "print(f\"Source: {source_path}\")\n",
    "print(f\"source: {data_path}\")\n",
    "    \n"
   ]
  },
  {
   "cell_type": "markdown",
   "metadata": {},
   "source": [
    "1 A \n",
    "\n",
    "| Key       | Value |\n",
    "| --------- | ----- |\n",
    "| id        | 101   |\n",
    "| name      | Erika |\n",
    "| is_active | True  |\n",
    "| age       | 45    |"
   ]
  },
  {
   "cell_type": "code",
   "execution_count": 5,
   "metadata": {},
   "outputs": [
    {
     "name": "stdout",
     "output_type": "stream",
     "text": [
      "| Key       | Value     |\n",
      "|-----------|-----------|\n",
      "| id        | 101       |\n",
      "| name      | Erika     |\n",
      "| is_active | True      |\n",
      "| age       | 45        |\n",
      "| extra     | [1, 2, 3] |\n",
      "[['id', 101], ['name', 'Erika'], ['is_active', True], ['age', 45], ['extra', [1, 2, 3]]]\n",
      "{'id': 101, 'name': 'Erika', 'is_active': True, 'age': 45, 'extra': [1, 2, 3]}\n"
     ]
    }
   ],
   "source": [
    "\n",
    "\n",
    "from tabulate import tabulate\n",
    "\n",
    "dictionary_1 = {\n",
    "    \"id\": 101,\n",
    "    \"name\": \"Erika\",\n",
    "    \"is_active\": True,\n",
    "    \"age\": 45,\n",
    "    \"extra\" : [1, 2, 3]    \n",
    "}\n",
    "\n",
    "# Correcting the variable name to dictionary_1\n",
    "table_data = [[key, value] for key, value in dictionary_1.items()]\n",
    "\n",
    "output = tabulate(table_data, headers=[\"Key\", \"Value\"], tablefmt=\"github\")\n",
    "\n",
    "print(output)\n",
    "print(table_data)\n",
    "print(dictionary_1)"
   ]
  },
  {
   "cell_type": "markdown",
   "metadata": {},
   "source": [
    "1 B"
   ]
  },
  {
   "cell_type": "code",
   "execution_count": 6,
   "metadata": {},
   "outputs": [
    {
     "name": "stdout",
     "output_type": "stream",
     "text": [
      "<class 'dict'>\n",
      "Key 'id' has type: int\n",
      "The dictionary have valid values\n",
      "Key 'name' has type: str\n",
      "The dictionary have valid values\n",
      "Key 'is_active' has type: bool\n",
      "The dictionary have valid values\n",
      "Key 'age' has type: int\n",
      "The dictionary have valid values\n",
      "Key 'extra' has type: list\n",
      " Key has an invalid type <class 'list'>\n"
     ]
    }
   ],
   "source": [
    "print(type(dictionary_1))\n",
    "\n",
    "for keys, values in dictionary_1.items():\n",
    "    print(f\"Key '{keys}' has type: {type(values).__name__}\")\n",
    "    if not isinstance(values, (int, str, bool)):\n",
    "        print(f\" Key has an invalid type {type(values)}\")\n",
    "        break\n",
    "    else:\n",
    "        print(f\"The dictionary have valid values\")\n",
    "    "
   ]
  },
  {
   "cell_type": "markdown",
   "metadata": {},
   "source": [
    "1 c"
   ]
  },
  {
   "cell_type": "code",
   "execution_count": 29,
   "metadata": {},
   "outputs": [
    {
     "name": "stdout",
     "output_type": "stream",
     "text": [
      "|   id | name   | is_active   |   age |\n",
      "|------|--------|-------------|-------|\n",
      "|  101 | Erika  | True        |  45   |\n",
      "|  102 | Marcus | False       |  34   |\n",
      "|  103 | David  | True        |  29   |\n",
      "|  104 | Anna   | False       |  41.5 |\n"
     ]
    }
   ],
   "source": [
    "dictionary_1 = {\n",
    "    \"id\": (101, 102, 103, 104, 106),\n",
    "    \"name\": (\"Erika\", \"Marcus\", \"David\", \"Anna\", \"Ingrid\"),\n",
    "    \"is_active\": (True, False, True, False),\n",
    "    \"age\": (45, 34, 29, 41.5, 8) \n",
    "}\n",
    "\n",
    "\n",
    "table = zip(*dictionary_1.values())\n",
    "\n",
    "headers = dictionary_1.keys()\n",
    "\n",
    "table2 = tabulate(table, headers = headers, tablefmt=\"github\")\n",
    "\n",
    "print(table2)"
   ]
  },
  {
   "cell_type": "markdown",
   "metadata": {},
   "source": [
    "1 D"
   ]
  },
  {
   "cell_type": "code",
   "execution_count": 54,
   "metadata": {},
   "outputs": [
    {
     "name": "stdout",
     "output_type": "stream",
     "text": [
      "JSON validation error: 'NOPE' is not of type 'boolean'\n"
     ]
    }
   ],
   "source": [
    "from jsonschema import validate, ValidationError\n",
    "\n",
    "schema = {\n",
    "    \"type\": \"array\",\n",
    "    \"items\": {\n",
    "        \"type\": \"object\",\n",
    "        \"properties\": {\n",
    "            \"id\": {\"type\": \"integer\"},\n",
    "            \"name\": {\"type\": \"string\"},\n",
    "            \"is_active\": {\"type\": \"boolean\"},\n",
    "            \"age\": {\n",
    "                \n",
    "                \"type\": \"number\"\n",
    "                \n",
    "            }\n",
    "            \n",
    "        },\n",
    "        \"required\": [\"id\", \"name\", \"is_active\", \"age\"]\n",
    "    }\n",
    "}    \n",
    "\n",
    "data = [\n",
    "    \n",
    "    {\"id\": 102, \"name\": \"Marcus\", \"is_active\": True, \"age\": 34},\n",
    "    {\"id\": 103, \"name\": \"David\", \"is_active\": True, \"age\": 29},\n",
    "    {\"id\": 104, \"name\": \"Anna\", \"is_active\": True, \"age\": 41.5},\n",
    "    {\"id\": 106, \"name\": \"Ingrid\", \"is_active\": \"NOPE\", \"age\": 8}\n",
    "      \n",
    "]\n",
    "\n",
    "try:\n",
    "    \n",
    "    validate(instance=data, schema=schema)\n",
    "    print(\"JSON is valid!\")\n",
    "except ValidationError as e:\n",
    "    print(f\"JSON validation error: {e.message}\")\n"
   ]
  },
  {
   "cell_type": "markdown",
   "metadata": {},
   "source": [
    "1 E"
   ]
  },
  {
   "cell_type": "code",
   "execution_count": null,
   "metadata": {},
   "outputs": [
    {
     "name": "stdout",
     "output_type": "stream",
     "text": [
      "Validation error: 'NOPE' is not of type 'boolean'\n",
      "None\n"
     ]
    }
   ],
   "source": [
    "\n",
    "\n",
    "\n",
    "schema = {\n",
    "    \"type\": \"array\",\n",
    "    \"items\": {\n",
    "        \"type\": \"object\",\n",
    "        \"properties\": {\n",
    "            \"id\": {\"type\": \"integer\"},\n",
    "            \"name\": {\"type\": \"string\"},\n",
    "            \"is_active\": {\"type\": \"boolean\"},\n",
    "            \"age\": {\n",
    "                \n",
    "                \"type\": \"number\"\n",
    "                \n",
    "            }\n",
    "            \n",
    "        },\n",
    "        \"required\": [\"id\", \"name\", \"is_active\", \"age\"]\n",
    "    }\n",
    "}    \n",
    "\n",
    "data = [\n",
    "    \n",
    "    {\"id\": 102, \"name\": \"Marcus\", \"is_active\": True, \"age\": 34},\n",
    "    {\"id\": 103, \"name\": \"David\", \"is_active\": True, \"age\": 29},\n",
    "    {\"id\": 104, \"name\": \"Anna\", \"is_active\": True, \"age\": 41.5},\n",
    "    {\"id\": 106, \"name\": \"Ingrid\", \"is_active\": \"NOPE\", \"age\": 8}\n",
    "      \n",
    "]\n",
    " \n",
    "def validate_data(data, schema):\n",
    "    try:\n",
    "        validate(instance=data, schema=schema)\n",
    "        return True  # Validation passed\n",
    "    except ValidationError as e:\n",
    "        error_message = f\"Validation error: {e.message}\"\n",
    "        print(error_message)  # Print the error\n",
    "           # Return the error\n",
    "           \n",
    "           \n",
    "print(validate_data(data, schema))          \n",
    "\n",
    "   \n"
   ]
  },
  {
   "cell_type": "markdown",
   "metadata": {},
   "source": [
    "1 E, another example"
   ]
  },
  {
   "cell_type": "code",
   "execution_count": null,
   "metadata": {},
   "outputs": [
    {
     "name": "stdout",
     "output_type": "stream",
     "text": [
      "[\"Error for item {'id': 'Lars', 'name': 'Marcus', 'is_active': True, 'age': 34}: 'Lars' is not of type 'integer'\", \"Error for item {'id': 106, 'name': 'Ingrid', 'is_active': 'NOPE', 'age': 8}: 'NOPE' is not of type 'boolean'\"]\n"
     ]
    }
   ],
   "source": [
    "from jsonschema import validate, ValidationError\n",
    "\n",
    "def validate_data(data, schema):\n",
    "    errors = []\n",
    "    \n",
    "   \n",
    "    for item in data:\n",
    "        try:\n",
    "            validate(instance=item, schema=schema['items'])  \n",
    "        except ValidationError as e: \n",
    "            errors.append(f\"Error for item {item}: {e.message}\")\n",
    "\n",
    "    if errors:\n",
    "        return errors\n",
    "    else:\n",
    "        return \"All items are valid!\"\n",
    "\n",
    "data = [\n",
    "    {\"id\": \"Lars\", \"name\": \"Marcus\", \"is_active\": True, \"age\": 34},\n",
    "    {\"id\": 103, \"name\": \"David\", \"is_active\": True, \"age\": 29},\n",
    "    {\"id\": 104, \"name\": \"Anna\", \"is_active\": True, \"age\": 41.5},\n",
    "    {\"id\": 106, \"name\": \"Ingrid\", \"is_active\": \"NOPE\", \"age\": 8}\n",
    "]\n",
    "\n",
    "schema = {\n",
    "    \"type\": \"array\",\n",
    "    \"items\": {\n",
    "        \"type\": \"object\",\n",
    "        \"properties\": {\n",
    "            \"id\": {\"type\": \"integer\"},\n",
    "            \"name\": {\"type\": \"string\"},\n",
    "            \"is_active\": {\"type\": \"boolean\"},\n",
    "            \"age\": {\"type\": \"number\"}\n",
    "        },\n",
    "        \"required\": [\"id\", \"name\", \"is_active\", \"age\"]\n",
    "    }\n",
    "}\n",
    "\n",
    "result = validate_data(data, schema)\n",
    "print(result)\n",
    "\n",
    "\n",
    "\n",
    "\n",
    "\n",
    "\n"
   ]
  },
  {
   "cell_type": "markdown",
   "metadata": {},
   "source": [
    "2"
   ]
  },
  {
   "cell_type": "code",
   "execution_count": 15,
   "metadata": {},
   "outputs": [
    {
     "name": "stdout",
     "output_type": "stream",
     "text": [
      "This type None is invalid and should consist of a boolean, integer, string or float instead. Your list had the length of: 10\n"
     ]
    }
   ],
   "source": [
    "lista = (1, 2, \"Lars\", True, 7.5, None, False, 10, \"Filip\", 7.5)\n",
    "\n",
    "def control_elements(x):\n",
    "    \n",
    "    if len(x) != 10:\n",
    "        print(f\"This list does not contain 10 elements but {len(x)}\")\n",
    "        \n",
    "    else:\n",
    "        all_valid = True\n",
    "        for i in x:\n",
    "            if  i is None:\n",
    "                print(f\"This type {i} is invalid and should consist of a boolean, integer, string or float instead. Your list had the length of: {len(x)}\")\n",
    "                all_valid = False\n",
    "                break\n",
    "                        \n",
    "        if all_valid:\n",
    "            print(\"Your list have 10 elements\")\n",
    "                              \n",
    "control_elements(lista)\n",
    "\n",
    "\n"
   ]
  },
  {
   "cell_type": "code",
   "execution_count": null,
   "metadata": {},
   "outputs": [],
   "source": [
    "# Kukchans variant\n",
    "\n",
    "def qualitty"
   ]
  },
  {
   "cell_type": "markdown",
   "metadata": {},
   "source": [
    "3."
   ]
  },
  {
   "cell_type": "code",
   "execution_count": 57,
   "metadata": {},
   "outputs": [
    {
     "name": "stdout",
     "output_type": "stream",
     "text": [
      "```yaml\n",
      "Source: 10.0.0.1 | Destination: 10.0.0.2 | Protocol: TCP | Bytes: 1024\n",
      "Source: 10.0.0.2 | Destination: 10.0.0.3 | Protocol: UDP | Bytes: 2048\n",
      "Source: 10.0.0.3 | Destination: 10.0.0.1 | Protocol: TCP | Bytes: 512\n",
      "\n",
      "Data Transfer Summary:\n",
      "TCP: 1536 bytes\n",
      "UDP: 2048 bytes\n"
     ]
    }
   ],
   "source": [
    "\n",
    "\n",
    "protocol_bytes = {\"TCP\": 0, \"UDP\": 0}\n",
    "log_entries = []\n",
    "\n",
    "# Read the network.log file\n",
    "with open(\"data/network.log\", 'r') as file:\n",
    "    for line in file:\n",
    "        # Split the line by '|' to separate the different parts of the log\n",
    "        parts = line.split('|')\n",
    "        \n",
    "        # Strip any extra spaces and ensure the line has at least 4 parts\n",
    "        if len(parts) >= 4:\n",
    "            # Extract the protocol and bytes from the appropriate parts\n",
    "            protocol_part = parts[3].strip()  # Example: \" Protocol: TCP, starts from 0 \"\n",
    "            bytes_part = parts[4].strip()  # Example: \" Bytes: 1024\"\n",
    "            \n",
    "            # Extract the protocol and bytes value\n",
    "            if \"Protocol:\" in protocol_part and \"Bytes:\" in bytes_part:\n",
    "                protocol = protocol_part.split(':')[1].strip()  # Get protocol (TCP/UDP)\n",
    "                bytes_transferred = int(bytes_part.split(':')[1].strip())  # Get bytes as integer\n",
    "                \n",
    "                # Add the bytes to the corresponding protocol in the dictionary\n",
    "                if protocol in protocol_bytes:\n",
    "                    protocol_bytes[protocol] += bytes_transferred\n",
    "                \n",
    "                # Create the log entry and add to the list according to Kukchans requierment. \n",
    "                log_entry = f\"Source: {parts[1].split(':')[1].strip()} | Destination: {parts[2].split(':')[1].strip()} | {protocol_part} | {bytes_part}\"\n",
    "                log_entries.append(log_entry)\n",
    "\n",
    "\n",
    "print(\"```yaml\")\n",
    "for entry in log_entries:\n",
    "    print(entry)\n",
    "\n",
    "# Print Data Transfer Summary\n",
    "print(\"\\nData Transfer Summary:\")\n",
    "for protocol, total_bytes in protocol_bytes.items():\n",
    "    if total_bytes > 0:  # Only print if the protocol has data\n",
    "        print(f\"{protocol}: {total_bytes} bytes\")\n",
    "\n",
    "\n",
    "\n",
    "\n",
    "\n",
    "\n",
    "\n",
    "\n",
    "\n",
    "\n",
    "\n",
    "\n",
    "\n",
    "\n",
    "\n",
    "\n"
   ]
  },
  {
   "cell_type": "markdown",
   "metadata": {},
   "source": [
    "4. A"
   ]
  },
  {
   "cell_type": "code",
   "execution_count": 66,
   "metadata": {},
   "outputs": [
    {
     "name": "stdout",
     "output_type": "stream",
     "text": [
      "[{'name': 'Alice', 'paid': 100}, {'name': 'Bob', 'paid': 200}, {'name': 'Alice', 'paid': 150}, {'name': 'Erik', 'paid': 180}, {'name': 'Maja', 'paid': 220}, {'name': 'Bob', 'paid': 180}, {'name': 'Alice', 'paid': 130}, {'name': 'Oskar', 'paid': 140}, {'name': 'Elsa', 'paid': 170}, {'name': 'Maja', 'paid': 250}, {'name': 'Liam', 'paid': 210}, {'name': 'Alice', 'paid': 190}, {'name': 'Astrid', 'paid': 190}, {'name': 'Elsa', 'paid': 150}, {'name': 'Bob', 'paid': 120}, {'name': 'Erik', 'paid': 200}, {'name': 'Maja', 'paid': 180}, {'name': 'Liam', 'paid': 170}, {'name': 'Bob', 'paid': 140}, {'name': 'Oskar', 'paid': 160}, {'name': 'Freja', 'paid': 240}, {'name': 'Hugo', 'paid': 250}, {'name': 'Freja', 'paid': 200}, {'name': 'Nils', 'paid': 130}, {'name': 'Freja', 'paid': 180}, {'name': 'Wilma', 'paid': 200}, {'name': 'Alexander', 'paid': 260}, {'name': 'Clara', 'paid': 280}, {'name': 'Alice', 'paid': 175}, {'name': 'Selma', 'paid': 175}, {'name': 'Erik', 'paid': 190}, {'name': 'Elias', 'paid': 190}]\n"
     ]
    }
   ],
   "source": [
    "import re\n",
    "\n",
    "with open(\"data/paid.json\", \"r\") as file:\n",
    "    json_file = json.load(file)\n",
    "    \n",
    "    print(json_file)\n",
    "    \n",
    "    \n",
    "    \n",
    " "
   ]
  },
  {
   "cell_type": "markdown",
   "metadata": {},
   "source": [
    "4. B"
   ]
  },
  {
   "cell_type": "code",
   "execution_count": 84,
   "metadata": {},
   "outputs": [
    {
     "name": "stdout",
     "output_type": "stream",
     "text": [
      "Alice: 745\n",
      "Bob: 640\n",
      "Erik: 570\n",
      "Maja: 650\n",
      "Oskar: 300\n",
      "Elsa: 320\n",
      "Liam: 380\n",
      "Astrid: 190\n",
      "Freja: 620\n",
      "Hugo: 250\n",
      "Nils: 130\n",
      "Wilma: 200\n",
      "Alexander: 260\n",
      "Clara: 280\n",
      "Selma: 175\n",
      "Elias: 190\n"
     ]
    }
   ],
   "source": [
    "from collections import defaultdict\n",
    "\n",
    "# for key, value in (json_file):\n",
    "#     print (value)\n",
    "\n",
    "\n",
    "from collections import defaultdict\n",
    "\n",
    "# Initialize defaultdict with int, so any new key gets the default value of 0\n",
    "totals = defaultdict(int)\n",
    "\n",
    "\n",
    "# Iterate and sum the payments per name\n",
    "for transaction in json_file:\n",
    "    totals[transaction[\"name\"]] += transaction[\"paid\"]\n",
    "\n",
    "# Print the total payments\n",
    "for name, total in totals.items():\n",
    "    print(f\"{name}: {total}\")\n",
    "\n",
    "    \n",
    "    \n",
    "    \n",
    "    "
   ]
  },
  {
   "cell_type": "markdown",
   "metadata": {},
   "source": [
    "4 C."
   ]
  },
  {
   "cell_type": "code",
   "execution_count": 97,
   "metadata": {},
   "outputs": [],
   "source": [
    "\n",
    "\n",
    "payment_entries = []\n",
    "\n",
    "for name, total in totals.items():\n",
    "    payment_entries.append({\"name\": name, \"paid\": total})\n",
    "\n",
    "\n",
    "\n",
    "with open(\"data/payment_sum.json\", mode=\"w\", encoding=\"utf-8\") as write_file:\n",
    "    json.dump(payment_entries, write_file)\n",
    "\n",
    "\n",
    "    \n",
    "\n",
    "\n",
    "    \n"
   ]
  },
  {
   "cell_type": "markdown",
   "metadata": {},
   "source": [
    "5."
   ]
  },
  {
   "cell_type": "code",
   "execution_count": null,
   "metadata": {},
   "outputs": [
    {
     "name": "stdout",
     "output_type": "stream",
     "text": [
      "Starting data stream processing... \n",
      "\n",
      "Processed: record1\n",
      "Processed: record2\n",
      "Processed: record3\n",
      "Processed: record4\n",
      "STOP signal encountered. Ending stream processing.\n",
      "\n",
      "Data stream processing completed. Have a nice day\n"
     ]
    }
   ],
   "source": [
    "import time\n",
    "simualated_stream = [\"record1\", \"record2\", \"record3\", \"record4\", \"STOP\", \"record5\"]\n",
    "\n",
    "print(\"Starting data stream processing... \\n\")\n",
    "for i in simualated_stream:\n",
    "    if i == \"STOP\":\n",
    "        print(\"STOP signal encountered. Ending stream processing.\\n\")\n",
    "        time.sleep(1)\n",
    "        break\n",
    "    else: \n",
    "        print (f\"Processed: {i}\")\n",
    "        time.sleep(1.1)\n",
    "        \n",
    "print(\"Data stream processing completed. Have a nice day\")\n",
    "\n"
   ]
  },
  {
   "cell_type": "markdown",
   "metadata": {},
   "source": [
    "6 A) What are the fundamental data types in Python?\n",
    "Numeric Types:\n",
    "\n",
    "int: Represents integers (e.g., 1, -5, 100).\n",
    "float: Represents floating-point numbers (e.g., 1.0, -3.14, 2.5).\n",
    "complex: Represents complex numbers (e.g., 3+4j, 1-2j).\n",
    "Sequence Types:\n",
    "\n",
    "str: Represents strings (e.g., \"hello\", 'Python').\n",
    "list: Represents ordered, mutable sequences (e.g., [1, 2, 3], [\"a\", \"b\", \"c\"]).\n",
    "tuple: Represents ordered, immutable sequences (e.g., (1, 2, 3), (\"a\", \"b\", \"c\")).\n",
    "range: Represents a range of numbers (e.g., range(10)).\n",
    "Mapping Types:\n",
    "\n",
    "dict: Represents key-value pairs (e.g., {\"key1\": \"value1\", \"key2\": \"value2\"}).\n",
    "Set Types:\n",
    "\n",
    "set: Represents unordered collections of unique elements (e.g., {1, 2, 3}).\n",
    "frozenset: Represents immutable sets (e.g., frozenset({1, 2, 3})).\n",
    "Boolean Type:\n",
    "\n",
    "bool: Represents True or False.\n",
    "Binary Types:\n",
    "\n",
    "bytes: Represents immutable sequences of bytes (e.g., b\"hello\").\n",
    "bytearray: Represents mutable sequences of bytes.\n",
    "memoryview: Represents a memory view object of a binary sequence.\n",
    "None Type:\n",
    "\n",
    "NoneType: Represents the absence of a value or a null value (e.g., None).\n",
    "\n",
    "6 B) What is the difference between a list and a tuple in Python?\n",
    "\n",
    "In a list you can update individual items but not in a tuple they are unchangeable. \n",
    "A list have [], tuples ().\n",
    "Tuples are hashable due to their unchangeable nature, can thus be used a dictionary keys. \n",
    "\n",
    "6 C) How does Python handle mutable and immutable data types?\n",
    "\n",
    "Mutable objects passed to functions can be modified in-place, affecting the original data.\n",
    "Immutable objects cannot be changed in-place, but a new object can be returned.\n",
    "\n",
    "6 D) Explain the difference between for and while loops and when to use one or the other.\n",
    "\n",
    "For loops when you want to iterate over something e.g a list. While loops when you want to loop until a condition is met. \n",
    "\n",
    "\n",
    "6 E) How do you read a file line-by-line in Python?\n",
    "\n",
    "import re\n",
    "\n",
    "with open(\"/data.object\", 'r') as file:\n",
    "new_file = read.(file)\n",
    "print(new_file)\n",
    "\n",
    "readline() one line at the time\n",
    "readlines() get the lines into a list\n",
    "\n",
    "6 F) What is a context manager and why would you need to use it?\n",
    "Automatic Resource Handling: Prevents resource leaks (e.g., open files or connections).\n",
    "Cleaner Code: Eliminates the need for explicit cleanup code (e.g., file.close()).\n",
    "Error Handling: Ensures proper resource release even in cases of exceptions.\n",
    "\n",
    "6 G)Explain the difference between try, except, else, and finally.\n",
    "\n",
    "Try  = Encapsulates the code that might raise an exception.\n",
    "\n",
    "Purpose: Handle exceptions and ensure cleanup of resources.\n",
    "Context: Used for error handling in cases where runtime exceptions might occur.\n",
    "\n",
    "try:\n",
    "    result = 10 / 2  # No exception here\n",
    "except ZeroDivisionError:\n",
    "    print(\"Cannot divide by zero!\")\n",
    "else:\n",
    "    print(\"Division successful:\", result)  # This runs because no exception occurred\n",
    "finally:\n",
    "    print(\"Execution complete.\")  # This runs regardless of what happened\n",
    "\n",
    "6 H) What is the difference between ETL and ELT?\n",
    "\n",
    "\n",
    "The difference between ETL (Extract, Transform, Load) and ELT (Extract, Load, Transform) lies in the order of operations and where data transformations occur. These processes are commonly used in data integration and data pipeline workflows for moving data between systems.\n",
    "\n",
    "ETL: Extract, Transform, Load\n",
    "Extract: Data is extracted from source systems (e.g., databases, APIs, files).\n",
    "Transform: Data is transformed (cleaned, aggregated, standardized) in a staging environment or ETL tool before loading.\n",
    "Load: Transformed data is loaded into the target system, such as a data warehouse.\n",
    "Characteristics:\n",
    "Transformations happen before loading into the target system.\n",
    "When to use:\n",
    "Traditional data warehouses where data must conform to a schema before loading.\n",
    "When there are strict data quality requirements before ingestion.\n",
    "Advantages:\n",
    "Data loaded into the target is already clean and ready for use.\n",
    "Reduces processing load on the target system.\n",
    "Disadvantages:\n",
    "Can be slower since transformations happen before loading.\n",
    "Requires additional infrastructure for staging and transforming data.\n",
    "\n",
    "ELT: Extract, Load, Transform\n",
    "Extract: Data is extracted from source systems.\n",
    "Load: Raw data is loaded directly into the target system, often a modern data warehouse.\n",
    "Transform: Data is transformed within the target system using its computing power.\n",
    "Characteristics:\n",
    "Transformations happen after loading into the target system.\n",
    "When to use:\n",
    "Modern cloud-based data warehouses (e.g., Snowflake, BigQuery) that can handle raw data and perform transformations efficiently.\n",
    "Scenarios with large, unstructured datasets or exploratory analytics.\n",
    "Advantages:\n",
    "Faster initial loading of raw data.\n",
    "Leverages the scalability and processing power of modern data warehouses.\n",
    "Allows flexibility for ad hoc transformations.\n",
    "Disadvantages:\n",
    "Raw data in the warehouse may require additional storage.\n",
    "Data consumers may need expertise to transform raw data.\n",
    "\n",
    "6 I)  Differentiate between batch processing and streaming processing.\n",
    "\n",
    "Continoius vs scheduled intervals. immidieate response are crucial vs is not requiered, batch is more cost efficient\n",
    "\n",
    "\n",
    "6 D) What is a data platform?\n",
    "\n",
    "A data platform is a comprehensive infrastructure and ecosystem designed to collect, store, manage, process, analyze, and visualize data. It integrates various technologies and tools to support the entire lifecycle of data, from acquisition to actionable insights. Data platforms enable organizations to efficiently work with large volumes of data, derive insights, and make data-driven decisions.\n",
    "\n",
    "\n",
    "\n",
    "\n",
    "\n",
    "\n",
    "\n",
    "\n",
    "\n",
    "\n",
    "\n",
    "    \n"
   ]
  },
  {
   "cell_type": "markdown",
   "metadata": {},
   "source": []
  }
 ],
 "metadata": {
  "kernelspec": {
   "display_name": ".venv",
   "language": "python",
   "name": "python3"
  },
  "language_info": {
   "codemirror_mode": {
    "name": "ipython",
    "version": 3
   },
   "file_extension": ".py",
   "mimetype": "text/x-python",
   "name": "python",
   "nbconvert_exporter": "python",
   "pygments_lexer": "ipython3",
   "version": "3.12.8"
  }
 },
 "nbformat": 4,
 "nbformat_minor": 2
}
