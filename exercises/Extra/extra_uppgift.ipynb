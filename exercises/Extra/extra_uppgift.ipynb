{
 "cells": [
  {
   "cell_type": "code",
   "execution_count": 64,
   "metadata": {},
   "outputs": [
    {
     "name": "stdout",
     "output_type": "stream",
     "text": [
      "CryptocurrEncY has    bEcomE    a sUbject of greAt Interest in    recent yEars. ThE bLockChAin technology, uPon wHich it iS founD, Is conSideRed sEcure    and deCentrAliZed. InveSTors are seeking new OpportunitIes wIth coins likE Bitcoin,    EthereuM, anD mAny oTher altcoins. Many believe that Cryptocurrencies wiLL chAnge the futuRe oF finaNcial systEms.\n",
      "CryptocurrEncY has bEcomE a sUbject of greAt Interest in recent yEars. ThE bLockChAin technology, uPon wHich it iS founD, Is conSideRed sEcure and deCentrAliZed. InveSTors are seeking new OpportunitIes wIth coins likE Bitcoin, EthereuM, anD mAny oTher altcoins. Many believe that Cryptocurrencies wiLL chAnge the futuRe oF finaNcial systEms.\n",
      "Cryptocurrency has become a subject of great interest in recent years. the blockchain technology, upon which it is found, is considered secure and decentralized. investors are seeking new opportunities with coins like bitcoin, ethereum, and many other altcoins. many believe that cryptocurrencies will change the future of financial systems.\n",
      "Cryptocurrency has become a subject of great interest in recent years. The blockchain technology, upon which it is found, is considered secure and decentralized. Investors are seeking new opportunities with coins like bitcoin, ethereum, and many other altcoins. Many believe that cryptocurrencies will change the future of financial systems.\n"
     ]
    }
   ],
   "source": [
    "# A, strip\n",
    "\n",
    "# with open(\"student_scores.txt\", \"r\") as file:\n",
    "#     for line in file:\n",
    "#         # Strip any leading/trailing whitespace and check if line is not empty\n",
    "#         line = line.strip()\n",
    "#         if line:\n",
    "#             # Split the line into parts by comma\n",
    "#             parts = line.split(',')\n",
    "            \n",
    "#             # Ensure there are exactly two parts: name and score\n",
    "#             if len(parts) == 2:\n",
    "#                 name = parts[0].strip()  # Remove extra spaces from the name\n",
    "#                 score = parts[1].strip()  # Remove extra spaces from the score\n",
    "                \n",
    "#                 # Print the student's name and score\n",
    "#                 print(f\"{name}: {score}\")\n",
    "#             else:\n",
    "#                 print(f\"Skipping invalid line: {line}\")\n",
    "\n",
    "\n",
    "# names = [\"  Alice  \", \"   Bob\", \"Charlie  \", \"  Dave\", \"Eve   \"]\n",
    "\n",
    "# print(names)\n",
    "\n",
    "# cleaned_names = []\n",
    "\n",
    "# for items in names:\n",
    "#     cleaned_names.append(items.strip())\n",
    "    \n",
    "# print(cleaned_names)\n",
    "\n",
    "# B, split\n",
    "\n",
    "# names = [\"Alice Johnson\", \"Bob Smith\", \"Charlie Brown Jr.\", \"Dave Williams\", \"Eve Green\"]\n",
    "# print(names)\n",
    "\n",
    "# split_names = []\n",
    "\n",
    "# for whole_name in names:\n",
    "#     first_name, second_name = whole_name.split(' ', 1)\n",
    "#     split_names.append((first_name, second_name))\n",
    "    \n",
    "# print(split_names)\n",
    "\n",
    "# for first_name, second_name in split_names:\n",
    "#     print(f\"First name:  {first_name} | Second name: {second_name}\")\n",
    "\n",
    "# C, make bigger etc\n",
    "\n",
    "text = (\"CryptocurrEncY has    bEcomE    a sUbject of greAt Interest in    recent yEars. ThE bLockChAin technology, uPon wHich it iS founD, Is conSideRed sEcure    and deCentrAliZed. InveSTors are seeking new OpportunitIes wIth coins likE Bitcoin,    EthereuM, anD mAny oTher altcoins. Many believe that Cryptocurrencies wiLL chAnge the futuRe oF finaNcial systEms.\")\n",
    "print(text)\n",
    "# Remove extra spaces\n",
    "no_space = ' '.join(text.split())\n",
    "\n",
    "print(no_space)\n",
    "\n",
    "smaller = no_space.capitalize()\n",
    "print(smaller)\n",
    "\n",
    "# New part: Capitalize the first letter of each sentence\n",
    "sentences = no_space.split('.')\n",
    "capitalized_sentences = [sentence.strip().capitalize() for sentence in sentences if sentence]\n",
    "\n",
    "capitalized_text = '. '.join(capitalized_sentences) + '.'\n",
    "print(capitalized_text)\n",
    "\n",
    "\n",
    "\n",
    "\n",
    "    \n",
    "    "
   ]
  }
 ],
 "metadata": {
  "kernelspec": {
   "display_name": "Python 3",
   "language": "python",
   "name": "python3"
  },
  "language_info": {
   "codemirror_mode": {
    "name": "ipython",
    "version": 3
   },
   "file_extension": ".py",
   "mimetype": "text/x-python",
   "name": "python",
   "nbconvert_exporter": "python",
   "pygments_lexer": "ipython3",
   "version": "3.12.8"
  }
 },
 "nbformat": 4,
 "nbformat_minor": 2
}
