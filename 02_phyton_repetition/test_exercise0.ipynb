{
 "cells": [
  {
   "cell_type": "markdown",
   "metadata": {},
   "source": [
    "0"
   ]
  },
  {
   "cell_type": "code",
   "execution_count": 12,
   "metadata": {},
   "outputs": [
    {
     "name": "stdout",
     "output_type": "stream",
     "text": [
      "You have provided an invalid sourecpath\n"
     ]
    }
   ],
   "source": [
    "source_path = input(\"Where is the source file path:\")\n",
    "data_path = input(\"Where is the datapath:\")\n",
    "\n",
    "if source_path == \"/Users/aigineer/Documents/data_platform_course/data/file.csv\":\n",
    "\n",
    "    print(f\"Source: {source_path}\")\n",
    "elif data_path == \"/Users/aigineer/Documents/data_platform_course/cleaned_data/file.csv\":\n",
    "    print(f\"source: {data_path}\")\n",
    "else: \n",
    "    print(\"You have provided an invalid sourcepath\")\n",
    "\n",
    "    \n"
   ]
  },
  {
   "cell_type": "markdown",
   "metadata": {},
   "source": [
    "1 A \n",
    "\n",
    "| Key       | Value |\n",
    "| --------- | ----- |\n",
    "| id        | 101   |\n",
    "| name      | Erika |\n",
    "| is_active | True  |\n",
    "| age       | 45    |"
   ]
  },
  {
   "cell_type": "code",
   "execution_count": 10,
   "metadata": {},
   "outputs": [
    {
     "name": "stdout",
     "output_type": "stream",
     "text": [
      "Requirement already satisfied: tabulate in c:\\users\\eriku\\appdata\\local\\programs\\python\\python312\\lib\\site-packages (0.9.0)\n",
      "Note: you may need to restart the kernel to use updated packages.\n",
      "| Key       | Value     |\n",
      "|-----------|-----------|\n",
      "| id        | 101       |\n",
      "| name      | Erika     |\n",
      "| is_active | True      |\n",
      "| age       | 45        |\n",
      "| extra     | [1, 2, 3] |\n",
      "[['id', 101], ['name', 'Erika'], ['is_active', True], ['age', 45], ['extra', [1, 2, 3]]]\n",
      "{'id': 101, 'name': 'Erika', 'is_active': True, 'age': 45, 'extra': [1, 2, 3]}\n"
     ]
    }
   ],
   "source": [
    "%pip install tabulate\n",
    "\n",
    "from tabulate import tabulate\n",
    "\n",
    "dictionary_1 = {\n",
    "    \"id\": 101,\n",
    "    \"name\": \"Erika\",\n",
    "    \"is_active\": True,\n",
    "    \"age\": 45,\n",
    "    \"extra\" : [1, 2, 3]    \n",
    "}\n",
    "\n",
    "# Correcting the variable name to dictionary_1\n",
    "table_data = [[key, value] for key, value in dictionary_1.items()]\n",
    "\n",
    "output = tabulate(table_data, headers=[\"Key\", \"Value\"], tablefmt=\"github\")\n",
    "\n",
    "print(output)\n",
    "print(table_data)\n",
    "print(dictionary_1)"
   ]
  },
  {
   "cell_type": "markdown",
   "metadata": {},
   "source": [
    "1 B"
   ]
  },
  {
   "cell_type": "code",
   "execution_count": 11,
   "metadata": {},
   "outputs": [
    {
     "name": "stdout",
     "output_type": "stream",
     "text": [
      "<class 'dict'>\n",
      "Key 'id' has type: int\n",
      "The dictionary have valid values\n",
      "Key 'name' has type: str\n",
      "The dictionary have valid values\n",
      "Key 'is_active' has type: bool\n",
      "The dictionary have valid values\n",
      "Key 'age' has type: int\n",
      "The dictionary have valid values\n",
      "Key 'extra' has type: list\n",
      " Key has an invalid type <class 'list'>\n"
     ]
    }
   ],
   "source": [
    "print(type(dictionary_1))\n",
    "\n",
    "for keys, values in dictionary_1.items():\n",
    "    print(f\"Key '{keys}' has type: {type(values).__name__}\")\n",
    "    if not isinstance(values, (int, str, bool)):\n",
    "        print(f\" Key has an invalid type {type(values)}\")\n",
    "        break\n",
    "    else:\n",
    "        print(f\"The dictionary have valid values\")\n",
    "    "
   ]
  },
  {
   "cell_type": "markdown",
   "metadata": {},
   "source": [
    "1 c"
   ]
  },
  {
   "cell_type": "code",
   "execution_count": 29,
   "metadata": {},
   "outputs": [
    {
     "name": "stdout",
     "output_type": "stream",
     "text": [
      "|   id | name   | is_active   |   age |\n",
      "|------|--------|-------------|-------|\n",
      "|  101 | Erika  | True        |  45   |\n",
      "|  102 | Marcus | False       |  34   |\n",
      "|  103 | David  | True        |  29   |\n",
      "|  104 | Anna   | False       |  41.5 |\n"
     ]
    }
   ],
   "source": [
    "dictionary_1 = {\n",
    "    \"id\": (101, 102, 103, 104, 106),\n",
    "    \"name\": (\"Erika\", \"Marcus\", \"David\", \"Anna\", \"Ingrid\"),\n",
    "    \"is_active\": (True, False, True, False),\n",
    "    \"age\": (45, 34, 29, 41.5, 8) \n",
    "}\n",
    "\n",
    "\n",
    "table = zip(*dictionary_1.values())\n",
    "\n",
    "headers = dictionary_1.keys()\n",
    "\n",
    "table2 = tabulate(table, headers = headers, tablefmt=\"github\")\n",
    "\n",
    "print(table2)"
   ]
  },
  {
   "cell_type": "markdown",
   "metadata": {},
   "source": [
    "1 D"
   ]
  },
  {
   "cell_type": "code",
   "execution_count": 54,
   "metadata": {},
   "outputs": [
    {
     "name": "stdout",
     "output_type": "stream",
     "text": [
      "JSON validation error: 'NOPE' is not of type 'boolean'\n"
     ]
    }
   ],
   "source": [
    "from jsonschema import validate, ValidationError\n",
    "\n",
    "schema = {\n",
    "    \"type\": \"array\",\n",
    "    \"items\": {\n",
    "        \"type\": \"object\",\n",
    "        \"properties\": {\n",
    "            \"id\": {\"type\": \"integer\"},\n",
    "            \"name\": {\"type\": \"string\"},\n",
    "            \"is_active\": {\"type\": \"boolean\"},\n",
    "            \"age\": {\n",
    "                \n",
    "                \"type\": \"number\"\n",
    "                \n",
    "            }\n",
    "            \n",
    "        },\n",
    "        \"required\": [\"id\", \"name\", \"is_active\", \"age\"]\n",
    "    }\n",
    "}    \n",
    "\n",
    "data = [\n",
    "    \n",
    "    {\"id\": 102, \"name\": \"Marcus\", \"is_active\": True, \"age\": 34},\n",
    "    {\"id\": 103, \"name\": \"David\", \"is_active\": True, \"age\": 29},\n",
    "    {\"id\": 104, \"name\": \"Anna\", \"is_active\": True, \"age\": 41.5},\n",
    "    {\"id\": 106, \"name\": \"Ingrid\", \"is_active\": \"NOPE\", \"age\": 8}\n",
    "      \n",
    "]\n",
    "\n",
    "try:\n",
    "    \n",
    "    validate(instance=data, schema=schema)\n",
    "    print(\"JSON is valid!\")\n",
    "except ValidationError as e:\n",
    "    print(f\"JSON validation error: {e.message}\")\n"
   ]
  },
  {
   "cell_type": "markdown",
   "metadata": {},
   "source": [
    "1 E"
   ]
  },
  {
   "cell_type": "code",
   "execution_count": null,
   "metadata": {},
   "outputs": [
    {
     "name": "stdout",
     "output_type": "stream",
     "text": [
      "Validation error: 'NOPE' is not of type 'boolean'\n",
      "None\n"
     ]
    }
   ],
   "source": [
    "\n",
    "\n",
    "\n",
    "schema = {\n",
    "    \"type\": \"array\",\n",
    "    \"items\": {\n",
    "        \"type\": \"object\",\n",
    "        \"properties\": {\n",
    "            \"id\": {\"type\": \"integer\"},\n",
    "            \"name\": {\"type\": \"string\"},\n",
    "            \"is_active\": {\"type\": \"boolean\"},\n",
    "            \"age\": {\n",
    "                \n",
    "                \"type\": \"number\"\n",
    "                \n",
    "            }\n",
    "            \n",
    "        },\n",
    "        \"required\": [\"id\", \"name\", \"is_active\", \"age\"]\n",
    "    }\n",
    "}    \n",
    "\n",
    "data = [\n",
    "    \n",
    "    {\"id\": 102, \"name\": \"Marcus\", \"is_active\": True, \"age\": 34},\n",
    "    {\"id\": 103, \"name\": \"David\", \"is_active\": True, \"age\": 29},\n",
    "    {\"id\": 104, \"name\": \"Anna\", \"is_active\": True, \"age\": 41.5},\n",
    "    {\"id\": 106, \"name\": \"Ingrid\", \"is_active\": \"NOPE\", \"age\": 8}\n",
    "      \n",
    "]\n",
    " \n",
    "def validate_data(data, schema):\n",
    "    try:\n",
    "        validate(instance=data, schema=schema)\n",
    "        return True  # Validation passed\n",
    "    except ValidationError as e:\n",
    "        error_message = f\"Validation error: {e.message}\"\n",
    "        print(error_message)  # Print the error\n",
    "           # Return the error\n",
    "           \n",
    "           \n",
    "print(validate_data(data, schema))          \n",
    "\n",
    "   \n"
   ]
  },
  {
   "cell_type": "markdown",
   "metadata": {},
   "source": [
    "1 E, another example"
   ]
  },
  {
   "cell_type": "code",
   "execution_count": null,
   "metadata": {},
   "outputs": [
    {
     "name": "stdout",
     "output_type": "stream",
     "text": [
      "[\"Error for item {'id': 'Lars', 'name': 'Marcus', 'is_active': True, 'age': 34}: 'Lars' is not of type 'integer'\", \"Error for item {'id': 106, 'name': 'Ingrid', 'is_active': 'NOPE', 'age': 8}: 'NOPE' is not of type 'boolean'\"]\n"
     ]
    }
   ],
   "source": [
    "from jsonschema import validate, ValidationError\n",
    "\n",
    "def validate_data(data, schema):\n",
    "    errors = []\n",
    "    \n",
    "   \n",
    "    for item in data:\n",
    "        try:\n",
    "            validate(instance=item, schema=schema['items'])  \n",
    "        except ValidationError as e: \n",
    "            errors.append(f\"Error for item {item}: {e.message}\")\n",
    "\n",
    "    if errors:\n",
    "        return errors\n",
    "    else:\n",
    "        return \"All items are valid!\"\n",
    "\n",
    "data = [\n",
    "    {\"id\": \"Lars\", \"name\": \"Marcus\", \"is_active\": True, \"age\": 34},\n",
    "    {\"id\": 103, \"name\": \"David\", \"is_active\": True, \"age\": 29},\n",
    "    {\"id\": 104, \"name\": \"Anna\", \"is_active\": True, \"age\": 41.5},\n",
    "    {\"id\": 106, \"name\": \"Ingrid\", \"is_active\": \"NOPE\", \"age\": 8}\n",
    "]\n",
    "\n",
    "schema = {\n",
    "    \"type\": \"array\",\n",
    "    \"items\": {\n",
    "        \"type\": \"object\",\n",
    "        \"properties\": {\n",
    "            \"id\": {\"type\": \"integer\"},\n",
    "            \"name\": {\"type\": \"string\"},\n",
    "            \"is_active\": {\"type\": \"boolean\"},\n",
    "            \"age\": {\"type\": \"number\"}\n",
    "        },\n",
    "        \"required\": [\"id\", \"name\", \"is_active\", \"age\"]\n",
    "    }\n",
    "}\n",
    "\n",
    "result = validate_data(data, schema)\n",
    "print(result)\n",
    "\n",
    "\n",
    "\n",
    "\n",
    "\n",
    "\n"
   ]
  },
  {
   "cell_type": "markdown",
   "metadata": {},
   "source": [
    "2"
   ]
  },
  {
   "cell_type": "code",
   "execution_count": 152,
   "metadata": {},
   "outputs": [
    {
     "name": "stdout",
     "output_type": "stream",
     "text": [
      "Your list have 10 elements\n"
     ]
    }
   ],
   "source": [
    "lista = (1, 2, \"Lars\", True, 7.5, \"Frida\", False, 10, \"Filip\", 7.5)\n",
    "\n",
    "def control_elements(x):\n",
    "    \n",
    "    if len(x) != 10:\n",
    "        print(f\"This list does not contain 10 elements but {len(x)}\")\n",
    "        \n",
    "    else:\n",
    "        all_valid = True\n",
    "        for i in x:\n",
    "            if  i is None:\n",
    "                print(f\"This type {i} is invalid and should consist of a boolean, integer, string or float instead\")\n",
    "                all_valid = False\n",
    "                break\n",
    "                        \n",
    "        if all_valid:\n",
    "            print(\"Your list have 10 elements\")\n",
    "                              \n",
    "control_elements(lista)"
   ]
  }
 ],
 "metadata": {
  "kernelspec": {
   "display_name": "Python 3",
   "language": "python",
   "name": "python3"
  },
  "language_info": {
   "codemirror_mode": {
    "name": "ipython",
    "version": 3
   },
   "file_extension": ".py",
   "mimetype": "text/x-python",
   "name": "python",
   "nbconvert_exporter": "python",
   "pygments_lexer": "ipython3",
   "version": "3.12.8"
  }
 },
 "nbformat": 4,
 "nbformat_minor": 2
}
